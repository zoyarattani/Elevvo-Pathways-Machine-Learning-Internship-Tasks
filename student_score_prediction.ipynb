{
  "nbformat": 4,
  "nbformat_minor": 0,
  "metadata": {
    "colab": {
      "provenance": []
    },
    "kernelspec": {
      "name": "python3",
      "display_name": "Python 3"
    },
    "language_info": {
      "name": "python"
    }
  },
  "cells": [
    {
      "cell_type": "markdown",
      "source": [
        "[![Open In Colab](https://colab.research.google.com/assets/colab-badge.svg)](https://colab.research.google.com/drive/12c05xyMnHjOetKwpTtWvx8pXcDq1I3Xl?authuser=3#scrollTo=16qBBwffClMS)\n"
      ],
      "metadata": {
        "id": "apcwHGjnMz52"
      }
    },
    {
      "cell_type": "code",
      "execution_count": 4,
      "metadata": {
        "colab": {
          "base_uri": "https://localhost:8080/",
          "height": 158
        },
        "id": "16qBBwffClMS",
        "outputId": "c09f109c-1aed-4497-c2af-51b1cf6b9857"
      },
      "outputs": [
        {
          "output_type": "error",
          "ename": "SyntaxError",
          "evalue": "invalid decimal literal (ipython-input-4184346117.py, line 1)",
          "traceback": [
            "\u001b[0;36m  File \u001b[0;32m\"/tmp/ipython-input-4184346117.py\"\u001b[0;36m, line \u001b[0;32m1\u001b[0m\n\u001b[0;31m    [![Open In Colab](https://colab.research.google.com/assets/colab-badge.svg)](https://colab.research.google.com/drive/12c05xyMnHjOetKwpTtWvx8pXcDq1I3Xl?authuser=3#scrollTo=16qBBwffClMS)\u001b[0m\n\u001b[0m                                                                                                                          ^\u001b[0m\n\u001b[0;31mSyntaxError\u001b[0m\u001b[0;31m:\u001b[0m invalid decimal literal\n"
          ]
        }
      ],
      "source": [
        "\n",
        "# Step 1: Install dependencies (Colab usually has them pre-installed)\n",
        "!pip install pandas matplotlib scikit-learn\n",
        "\n",
        "# Step 2: Import libraries\n",
        "import pandas as pd\n",
        "import matplotlib.pyplot as plt\n",
        "from sklearn.model_selection import train_test_split\n",
        "from sklearn.linear_model import LinearRegression\n",
        "from sklearn.metrics import mean_squared_error, r2_score\n",
        "import numpy as np\n",
        "\n",
        "\n",
        "# Step 3: Load dataset directly from GitHub\n",
        "import pandas as pd\n",
        "\n",
        "url = \"https://raw.githubusercontent.com/zoyarattani/Elevvo-Pathways-Machine-Learning-Internship-Tasks/refs/heads/main/student_scores.csv\"\n",
        "df = pd.read_csv(url)\n",
        "\n",
        "print(df.head())\n",
        "\n",
        "\n",
        "# Step 4: Explore data\n",
        "print(df.head())\n",
        "print(df.info())\n",
        "print(df.describe())\n",
        "\n",
        "# Step 5: Visualization\n",
        "plt.scatter(df['Hours'], df['Scores'], color='blue')\n",
        "plt.xlabel('Study Hours')\n",
        "plt.ylabel('Exam Score')\n",
        "plt.title('Study Hours vs Exam Score')\n",
        "plt.show()\n",
        "\n",
        "# Step 6: Data Cleaning\n",
        "df = df.dropna()\n",
        "\n",
        "# Step 7: Split data\n",
        "X = df[['Hours']]  # features\n",
        "y = df['Scores']   # target\n",
        "X_train, X_test, y_train, y_test = train_test_split(X, y, test_size=0.2, random_state=42)\n",
        "\n",
        "# Step 8: Train model\n",
        "model = LinearRegression()\n",
        "model.fit(X_train, y_train)\n",
        "\n",
        "# Step 9: Predictions\n",
        "y_pred = model.predict(X_test)\n",
        "\n",
        "# Step 10: Evaluate model\n",
        "print(\"Mean Squared Error:\", mean_squared_error(y_test, y_pred))\n",
        "print(\"R² Score:\", r2_score(y_test, y_pred))\n",
        "\n",
        "# Step 11: Visualize predictions\n",
        "plt.scatter(X_test, y_test, color='red', label='Actual')\n",
        "plt.scatter(X_test, y_pred, color='blue', label='Predicted')\n",
        "plt.xlabel('Study Hours')\n",
        "plt.ylabel('Exam Score')\n",
        "plt.title('Actual vs Predicted Scores')\n",
        "plt.legend()\n",
        "plt.show()\n",
        "\n",
        "# Bonus: Polynomial Regression\n",
        "from sklearn.preprocessing import PolynomialFeatures\n",
        "poly = PolynomialFeatures(degree=2)\n",
        "X_poly = poly.fit_transform(X)\n",
        "X_train_poly, X_test_poly, y_train, y_test = train_test_split(X_poly, y, test_size=0.2, random_state=42)\n",
        "\n",
        "poly_model = LinearRegression()\n",
        "poly_model.fit(X_train_poly, y_train)\n",
        "y_poly_pred = poly_model.predict(X_test_poly)\n",
        "\n",
        "print(\"Polynomial MSE:\", mean_squared_error(y_test, y_poly_pred))\n",
        "print(\"Polynomial R²:\", r2_score(y_test, y_poly_pred))\n"
      ]
    },
    {
      "cell_type": "code",
      "source": [],
      "metadata": {
        "id": "rhlYIbPVNAzs"
      },
      "execution_count": null,
      "outputs": []
    }
  ]
}